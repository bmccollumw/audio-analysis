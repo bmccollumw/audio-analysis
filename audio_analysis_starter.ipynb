{
 "cells": [
  {
   "cell_type": "markdown",
   "id": "29ee82a4",
   "metadata": {},
   "source": [
    "# 🎧 Audio Analysis Starter Notebook\n",
    "This notebook helps you analyze BPM and waveform of an audio file."
   ]
  },
  {
   "cell_type": "code",
   "execution_count": 6,
   "id": "8a322866",
   "metadata": {},
   "outputs": [
    {
     "name": "stdout",
     "output_type": "stream",
     "text": [
      "✅ Loaded test.mp3\n",
      "→ Duration: 220.74 seconds\n"
     ]
    },
    {
     "name": "stderr",
     "output_type": "stream",
     "text": [
      "C:\\Users\\bmcco\\AppData\\Local\\Temp\\ipykernel_29172\\3760318468.py:13: DeprecationWarning: Conversion of an array with ndim > 0 to a scalar is deprecated, and will error in future. Ensure you extract a single element from your array before performing this operation. (Deprecated NumPy 1.25.)\n",
      "  tempo = float(tempo)\n"
     ]
    },
    {
     "name": "stdout",
     "output_type": "stream",
     "text": [
      "🎵 Estimated BPM: 143.55\n",
      "🎼 Estimated Key: D# minor\n"
     ]
    }
   ],
   "source": [
    "import librosa\n",
    "import numpy as np\n",
    "\n",
    "AUDIO_PATH = 'test.mp3'\n",
    "\n",
    "# Load audio\n",
    "y, sr = librosa.load(AUDIO_PATH)\n",
    "print(f\"✅ Loaded {AUDIO_PATH}\")\n",
    "print(f\"→ Duration: {len(y)/sr:.2f} seconds\")\n",
    "\n",
    "# Estimate BPM\n",
    "tempo, _ = librosa.beat.beat_track(y=y, sr=sr)\n",
    "tempo = float(tempo)\n",
    "print(f\"🎵 Estimated BPM: {tempo:.2f}\")\n",
    "\n",
    "# Estimate Key (Major or Minor)\n",
    "chroma = librosa.feature.chroma_cqt(y=y, sr=sr)\n",
    "chroma_mean = np.mean(chroma, axis=1)\n",
    "\n",
    "# Krumhansl-Schmuckler key profiles\n",
    "major_profile = np.array([6.35, 2.23, 3.48, 2.33, 4.38, 4.09,\n",
    "                          2.52, 5.19, 2.39, 3.66, 2.29, 2.88])\n",
    "minor_profile = np.array([6.33, 2.68, 3.52, 5.38, 2.60, 3.53,\n",
    "                          2.54, 4.75, 3.98, 2.69, 3.34, 3.17])\n",
    "\n",
    "# Correlate chroma with all 12 keys in both major and minor modes\n",
    "correlations = []\n",
    "for i in range(12):\n",
    "    major_corr = np.corrcoef(np.roll(major_profile, i), chroma_mean)[0, 1]\n",
    "    minor_corr = np.corrcoef(np.roll(minor_profile, i), chroma_mean)[0, 1]\n",
    "    correlations.append((major_corr, 'major', i))\n",
    "    correlations.append((minor_corr, 'minor', i))\n",
    "\n",
    "# Select best match\n",
    "best = max(correlations, key=lambda x: x[0])\n",
    "key_mapping = ['C', 'C#', 'D', 'D#', 'E', 'F',\n",
    "               'F#', 'G', 'G#', 'A', 'A#', 'B']\n",
    "key_name = key_mapping[best[2]]\n",
    "mode = best[1]\n",
    "\n",
    "print(f\"🎼 Estimated Key: {key_name} {mode}\")\n"
   ]
  }
 ],
 "metadata": {
  "kernelspec": {
   "display_name": "Python 3",
   "language": "python",
   "name": "python3"
  },
  "language_info": {
   "codemirror_mode": {
    "name": "ipython",
    "version": 3
   },
   "file_extension": ".py",
   "mimetype": "text/x-python",
   "name": "python",
   "nbconvert_exporter": "python",
   "pygments_lexer": "ipython3",
   "version": "3.13.5"
  }
 },
 "nbformat": 4,
 "nbformat_minor": 5
}
