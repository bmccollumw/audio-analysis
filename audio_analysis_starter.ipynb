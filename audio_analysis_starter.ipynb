{
 "cells": [
  {
   "cell_type": "markdown",
   "id": "29ee82a4",
   "metadata": {},
   "source": [
    "# 🎧 Audio Analysis Starter Notebook\n",
    "This notebook helps you analyze BPM and waveform of an audio file."
   ]
  },
  {
   "cell_type": "code",
   "execution_count": null,
   "id": "8a322866",
   "metadata": {},
   "outputs": [],
   "source": [
    "import librosa\n",
    "import librosa.display\n",
    "import matplotlib.pyplot as plt\n",
    "import numpy as np\n",
    "\n",
    "# Load your audio file (replace 'your_audio.mp3' with your file)\n",
    "y, sr = librosa.load('your_audio.mp3')\n",
    "\n",
    "# Estimate BPM\n",
    "tempo, _ = librosa.beat.beat_track(y=y, sr=sr)\n",
    "print(f\"BPM: {tempo:.2f}\")\n"
   ]
  },
  {
   "cell_type": "code",
   "execution_count": null,
   "id": "2efe60e9",
   "metadata": {},
   "outputs": [],
   "source": [
    "# Display the waveform\n",
    "librosa.display.waveshow(y, sr=sr)\n",
    "plt.title(\"Waveform\")\n",
    "plt.xlabel(\"Time (s)\")\n",
    "plt.ylabel(\"Amplitude\")\n",
    "plt.show()\n"
   ]
  },
  {
   "cell_type": "code",
   "execution_count": null,
   "id": "b6822ccd",
   "metadata": {},
   "outputs": [],
   "source": [
    "# Plot the tempogram (tempo over time)\n",
    "oenv = librosa.onset.onset_strength(y=y, sr=sr)\n",
    "tempogram = librosa.feature.tempogram(onset_envelope=oenv, sr=sr)\n",
    "librosa.display.specshow(tempogram, sr=sr, x_axis='time', y_axis='tempo')\n",
    "plt.title('Tempogram')\n",
    "plt.colorbar()\n",
    "plt.show()\n"
   ]
  }
 ],
 "metadata": {},
 "nbformat": 4,
 "nbformat_minor": 5
}
